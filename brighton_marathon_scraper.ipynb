{
 "cells": [
  {
   "cell_type": "markdown",
   "metadata": {},
   "source": [
    "# Brighton Marathon Results Scraper\n",
    "\n",
    "This notebook scrapes the Brighton Marathon results from the official website, including split times for each runner."
   ]
  },
  {
   "cell_type": "code",
   "execution_count": 9,
   "metadata": {},
   "outputs": [],
   "source": [
    "from src.Scraper import Scraper\n",
    "from itertools import product\n",
    "\n",
    "import pandas as pd\n",
    "import logging\n",
    "\n",
    "# Configure the logger\n",
    "logging.basicConfig(\n",
    "    level=logging.INFO,\n",
    "    format='%(asctime)s - %(levelname)s - %(message)s',\n",
    "    datefmt='%Y-%m-%d %H:%M:%S'\n",
    ")"
   ]
  },
  {
   "cell_type": "code",
   "execution_count": 10,
   "metadata": {},
   "outputs": [],
   "source": [
    "#MARATHON_URL = \"https://brighton.r.mikatiming.com/2025/\"\n",
    "#RUNNING_DATA_PATH = \"data/running_data_2025.csv\"\n",
    "#INDIVIDUAL_DATA_PATH = \"data/individual_running_data_2025.csv\"\n",
    "\n",
    "MARATHON_URL = \"https://brighton.r.mikatiming.com/2024/\"\n",
    "RUNNING_DATA_PATH = \"data/running_data_2024.csv\"\n",
    "INDIVIDUAL_DATA_PATH = \"data/individual_running_data_2024.csv\"\n"
   ]
  },
  {
   "cell_type": "code",
   "execution_count": 11,
   "metadata": {},
   "outputs": [],
   "source": [
    "def get_page_url(page: int, age: int, sex: str):\n",
    " return f\"https://brighton.r.mikatiming.com/2025/?page={page}&event=BRMA&pid=search&search%5Bage_class%5D={age}&search%5Bsex%5D={sex}&search%5Bnation%5D=%25&search_sort=name\""
   ]
  },
  {
   "cell_type": "code",
   "execution_count": 12,
   "metadata": {},
   "outputs": [
    {
     "name": "stderr",
     "output_type": "stream",
     "text": [
      "2025-04-18 10:53:16 - INFO - ====== WebDriver manager ======\n",
      "2025-04-18 10:53:17 - INFO - Get LATEST chromedriver version for google-chrome\n",
      "2025-04-18 10:53:17 - INFO - Get LATEST chromedriver version for google-chrome\n",
      "2025-04-18 10:53:17 - INFO - Driver [C:\\Users\\norri\\.wdm\\drivers\\chromedriver\\win64\\135.0.7049.95\\chromedriver-win32/chromedriver.exe] found in cache\n"
     ]
    }
   ],
   "source": [
    "scraper = Scraper()"
   ]
  },
  {
   "cell_type": "code",
   "execution_count": 13,
   "metadata": {},
   "outputs": [],
   "source": [
    "search_params = {\n",
    "    'age' : [18, 40, 45, 50, 55, 60, 65, 70, 75],\n",
    "    'sex' : ['M', 'W', 'D']  \n",
    "    }"
   ]
  },
  {
   "cell_type": "markdown",
   "metadata": {},
   "source": [
    "# Get Main Data and hyperlinks"
   ]
  },
  {
   "cell_type": "code",
   "execution_count": 14,
   "metadata": {},
   "outputs": [],
   "source": [
    "def scrape_all_pages(params: dict) -> pd.DataFrame:\n",
    "\n",
    "    params_running_data = pd.DataFrame()\n",
    "\n",
    "    page_number = 1\n",
    "    last_data_frame_size = 1\n",
    "\n",
    "    while(last_data_frame_size > 0 ):\n",
    "        page_data = scraper.scrape_runner_data(get_page_url(page_number, params['age'], params['sex']))\n",
    "        params_running_data = pd.concat([params_running_data, page_data], ignore_index=True)\n",
    "\n",
    "        page_number += 1\n",
    "        last_data_frame_size = page_data.shape[0]\n",
    "\n",
    "        if page_number % 10 == 0:\n",
    "            logging.info(f'page {page_number} scraped. Results size: {params_running_data.shape[0]}')\n",
    "\n",
    "    params_running_data['sex'] = params['sex']\n",
    "    params_running_data['age'] = params['age']\n",
    "\n",
    "    return params_running_data"
   ]
  },
  {
   "cell_type": "code",
   "execution_count": null,
   "metadata": {},
   "outputs": [],
   "source": [
    "\n",
    "running_data = pd.DataFrame()\n",
    "\n",
    "keys = search_params.keys()\n",
    "for values in product(*search_params.values()):\n",
    "    combo = dict(zip(keys, values))\n",
    "    \n",
    "    logging.info(f'scraping pages with params: {combo}')\n",
    "\n",
    "    running_data = pd.concat([running_data, scrape_all_pages(combo)])\n"
   ]
  },
  {
   "cell_type": "code",
   "execution_count": 16,
   "metadata": {},
   "outputs": [],
   "source": [
    "running_data.to_csv(RUNNING_DATA_PATH)"
   ]
  },
  {
   "cell_type": "markdown",
   "metadata": {},
   "source": [
    "# Get Individual Times"
   ]
  },
  {
   "cell_type": "code",
   "execution_count": 17,
   "metadata": {},
   "outputs": [
    {
     "data": {
      "text/html": [
       "<div>\n",
       "<style scoped>\n",
       "    .dataframe tbody tr th:only-of-type {\n",
       "        vertical-align: middle;\n",
       "    }\n",
       "\n",
       "    .dataframe tbody tr th {\n",
       "        vertical-align: top;\n",
       "    }\n",
       "\n",
       "    .dataframe thead th {\n",
       "        text-align: right;\n",
       "    }\n",
       "</style>\n",
       "<table border=\"1\" class=\"dataframe\">\n",
       "  <thead>\n",
       "    <tr style=\"text-align: right;\">\n",
       "      <th></th>\n",
       "      <th>bib_number</th>\n",
       "      <th>name</th>\n",
       "      <th>finish_time</th>\n",
       "      <th>hyper_link</th>\n",
       "      <th>sex</th>\n",
       "      <th>age</th>\n",
       "    </tr>\n",
       "  </thead>\n",
       "  <tbody>\n",
       "    <tr>\n",
       "      <th>0</th>\n",
       "      <td>15554</td>\n",
       "      <td>Matt Aaronson</td>\n",
       "      <td>03:51:13</td>\n",
       "      <td>?content=detail&amp;fpid=search&amp;pid=search&amp;idp=9TG...</td>\n",
       "      <td>M</td>\n",
       "      <td>18</td>\n",
       "    </tr>\n",
       "    <tr>\n",
       "      <th>1</th>\n",
       "      <td>35638</td>\n",
       "      <td>Younnis Abbad-Andaloussi</td>\n",
       "      <td>–</td>\n",
       "      <td>?content=detail&amp;fpid=search&amp;pid=search&amp;idp=9TG...</td>\n",
       "      <td>M</td>\n",
       "      <td>18</td>\n",
       "    </tr>\n",
       "    <tr>\n",
       "      <th>2</th>\n",
       "      <td>16565</td>\n",
       "      <td>Aaron Abbott</td>\n",
       "      <td>–</td>\n",
       "      <td>?content=detail&amp;fpid=search&amp;pid=search&amp;idp=9TG...</td>\n",
       "      <td>M</td>\n",
       "      <td>18</td>\n",
       "    </tr>\n",
       "    <tr>\n",
       "      <th>3</th>\n",
       "      <td>32897</td>\n",
       "      <td>Adam Abbott</td>\n",
       "      <td>05:18:58</td>\n",
       "      <td>?content=detail&amp;fpid=search&amp;pid=search&amp;idp=9TG...</td>\n",
       "      <td>M</td>\n",
       "      <td>18</td>\n",
       "    </tr>\n",
       "    <tr>\n",
       "      <th>4</th>\n",
       "      <td>20095</td>\n",
       "      <td>Alexander Abbott</td>\n",
       "      <td>03:21:27</td>\n",
       "      <td>?content=detail&amp;fpid=search&amp;pid=search&amp;idp=9TG...</td>\n",
       "      <td>M</td>\n",
       "      <td>18</td>\n",
       "    </tr>\n",
       "  </tbody>\n",
       "</table>\n",
       "</div>"
      ],
      "text/plain": [
       "  bib_number                      name finish_time  \\\n",
       "0      15554             Matt Aaronson    03:51:13   \n",
       "1      35638  Younnis Abbad-Andaloussi           –   \n",
       "2      16565              Aaron Abbott           –   \n",
       "3      32897               Adam Abbott    05:18:58   \n",
       "4      20095          Alexander Abbott    03:21:27   \n",
       "\n",
       "                                          hyper_link sex  age  \n",
       "0  ?content=detail&fpid=search&pid=search&idp=9TG...   M   18  \n",
       "1  ?content=detail&fpid=search&pid=search&idp=9TG...   M   18  \n",
       "2  ?content=detail&fpid=search&pid=search&idp=9TG...   M   18  \n",
       "3  ?content=detail&fpid=search&pid=search&idp=9TG...   M   18  \n",
       "4  ?content=detail&fpid=search&pid=search&idp=9TG...   M   18  "
      ]
     },
     "execution_count": 17,
     "metadata": {},
     "output_type": "execute_result"
    }
   ],
   "source": [
    "running_data.head()"
   ]
  },
  {
   "cell_type": "code",
   "execution_count": 18,
   "metadata": {},
   "outputs": [],
   "source": [
    "running_data = pd.read_csv(RUNNING_DATA_PATH)"
   ]
  },
  {
   "cell_type": "code",
   "execution_count": null,
   "metadata": {},
   "outputs": [],
   "source": [
    "individual_running_data = pd.DataFrame()\n",
    "\n",
    "for index, row in running_data.iterrows():\n",
    "    ind_data = scraper.scrape_individual_data(MARATHON_URL + row['hyper_link'])\n",
    "    ind_data['bib_number'] = row['bib_number']\n",
    "\n",
    "    individual_running_data = pd.concat([individual_running_data, ind_data])\n",
    "\n",
    "    if index % 100 == 0:\n",
    "        logging.info(f'index {index} scraped. Results size: {individual_running_data.shape[0]}')\n",
    "    "
   ]
  },
  {
   "cell_type": "code",
   "execution_count": 8,
   "metadata": {},
   "outputs": [],
   "source": [
    "individual_running_data.to_csv(INDIVIDUAL_DATA_PATH)"
   ]
  }
 ],
 "metadata": {
  "kernelspec": {
   "display_name": "Python 3",
   "language": "python",
   "name": "python3"
  },
  "language_info": {
   "codemirror_mode": {
    "name": "ipython",
    "version": 3
   },
   "file_extension": ".py",
   "mimetype": "text/x-python",
   "name": "python",
   "nbconvert_exporter": "python",
   "pygments_lexer": "ipython3",
   "version": "3.12.3"
  }
 },
 "nbformat": 4,
 "nbformat_minor": 4
}
