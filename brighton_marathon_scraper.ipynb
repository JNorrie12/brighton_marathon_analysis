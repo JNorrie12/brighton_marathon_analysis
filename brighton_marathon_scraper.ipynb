{
 "cells": [
  {
   "cell_type": "markdown",
   "metadata": {},
   "source": [
    "# Brighton Marathon Results Scraper\n",
    "\n",
    "This notebook scrapes the Brighton Marathon results from the official website, including split times for each runner."
   ]
  },
  {
   "cell_type": "code",
   "execution_count": 9,
   "metadata": {},
   "outputs": [],
   "source": [
    "from src.Scraper import Scraper\n",
    "from itertools import product\n",
    "\n",
    "import pandas as pd\n",
    "import logging\n",
    "\n",
    "# Configure the logger\n",
    "logging.basicConfig(\n",
    "    level=logging.INFO,\n",
    "    format='%(asctime)s - %(levelname)s - %(message)s',\n",
    "    datefmt='%Y-%m-%d %H:%M:%S'\n",
    ")"
   ]
  },
  {
   "cell_type": "code",
   "execution_count": 10,
   "metadata": {},
   "outputs": [],
   "source": [
    "#MARATHON_URL = \"https://brighton.r.mikatiming.com/2025/\"\n",
    "#RUNNING_DATA_PATH = \"data/running_data_2025.csv\"\n",
    "#INDIVIDUAL_DATA_PATH = \"data/individual_running_data_2025.csv\"\n",
    "\n",
    "MARATHON_URL = \"https://brighton.r.mikatiming.com/2024/\"\n",
    "RUNNING_DATA_PATH = \"data/running_data_2024.csv\"\n",
    "INDIVIDUAL_DATA_PATH = \"data/individual_running_data_2024.csv\"\n"
   ]
  },
  {
   "cell_type": "code",
   "execution_count": 11,
   "metadata": {},
   "outputs": [],
   "source": [
    "def get_page_url(page: int, age: int, sex: str):\n",
    " return f\"https://brighton.r.mikatiming.com/2025/?page={page}&event=BRMA&pid=search&search%5Bage_class%5D={age}&search%5Bsex%5D={sex}&search%5Bnation%5D=%25&search_sort=name\""
   ]
  },
  {
   "cell_type": "code",
   "execution_count": 12,
   "metadata": {},
   "outputs": [
    {
     "name": "stderr",
     "output_type": "stream",
     "text": [
      "2025-04-18 10:53:16 - INFO - ====== WebDriver manager ======\n",
      "2025-04-18 10:53:17 - INFO - Get LATEST chromedriver version for google-chrome\n",
      "2025-04-18 10:53:17 - INFO - Get LATEST chromedriver version for google-chrome\n",
      "2025-04-18 10:53:17 - INFO - Driver [C:\\Users\\norri\\.wdm\\drivers\\chromedriver\\win64\\135.0.7049.95\\chromedriver-win32/chromedriver.exe] found in cache\n"
     ]
    }
   ],
   "source": [
    "scraper = Scraper()"
   ]
  },
  {
   "cell_type": "code",
   "execution_count": 13,
   "metadata": {},
   "outputs": [],
   "source": [
    "search_params = {\n",
    "    'age' : [18, 40, 45, 50, 55, 60, 65, 70, 75],\n",
    "    'sex' : ['M', 'W', 'D']  \n",
    "    }"
   ]
  },
  {
   "cell_type": "markdown",
   "metadata": {},
   "source": [
    "# Get Main Data and hyperlinks"
   ]
  },
  {
   "cell_type": "code",
   "execution_count": 14,
   "metadata": {},
   "outputs": [],
   "source": [
    "def scrape_all_pages(params: dict) -> pd.DataFrame:\n",
    "\n",
    "    params_running_data = pd.DataFrame()\n",
    "\n",
    "    page_number = 1\n",
    "    last_data_frame_size = 1\n",
    "\n",
    "    while(last_data_frame_size > 0 ):\n",
    "        page_data = scraper.scrape_runner_data(get_page_url(page_number, params['age'], params['sex']))\n",
    "        params_running_data = pd.concat([params_running_data, page_data], ignore_index=True)\n",
    "\n",
    "        page_number += 1\n",
    "        last_data_frame_size = page_data.shape[0]\n",
    "\n",
    "        if page_number % 10 == 0:\n",
    "            logging.info(f'page {page_number} scraped. Results size: {params_running_data.shape[0]}')\n",
    "\n",
    "    params_running_data['sex'] = params['sex']\n",
    "    params_running_data['age'] = params['age']\n",
    "\n",
    "    return params_running_data"
   ]
  },
  {
   "cell_type": "code",
   "execution_count": 15,
   "metadata": {},
   "outputs": [
    {
     "name": "stderr",
     "output_type": "stream",
     "text": [
      "2025-04-18 10:53:19 - INFO - scraping pages with params: {'age': 18, 'sex': 'M'}\n",
      "2025-04-18 10:53:37 - INFO - page 10 scraped. Results size: 225\n",
      "2025-04-18 10:53:46 - INFO - page 20 scraped. Results size: 475\n",
      "2025-04-18 10:53:54 - INFO - page 30 scraped. Results size: 725\n",
      "2025-04-18 10:54:01 - INFO - page 40 scraped. Results size: 975\n",
      "2025-04-18 10:54:10 - INFO - page 50 scraped. Results size: 1225\n",
      "2025-04-18 10:54:18 - INFO - page 60 scraped. Results size: 1475\n",
      "2025-04-18 10:54:28 - INFO - page 70 scraped. Results size: 1725\n",
      "2025-04-18 10:54:37 - INFO - page 80 scraped. Results size: 1975\n",
      "2025-04-18 10:54:46 - INFO - page 90 scraped. Results size: 2225\n",
      "2025-04-18 10:54:56 - INFO - page 100 scraped. Results size: 2475\n",
      "2025-04-18 10:55:05 - INFO - page 110 scraped. Results size: 2725\n",
      "2025-04-18 10:55:14 - INFO - page 120 scraped. Results size: 2975\n",
      "2025-04-18 10:55:26 - INFO - page 130 scraped. Results size: 3225\n",
      "2025-04-18 10:55:36 - INFO - page 140 scraped. Results size: 3475\n",
      "2025-04-18 10:55:44 - INFO - page 150 scraped. Results size: 3725\n",
      "2025-04-18 10:55:53 - INFO - page 160 scraped. Results size: 3975\n",
      "2025-04-18 10:56:02 - INFO - page 170 scraped. Results size: 4225\n",
      "2025-04-18 10:56:13 - INFO - page 180 scraped. Results size: 4475\n",
      "2025-04-18 10:56:22 - INFO - page 190 scraped. Results size: 4725\n",
      "2025-04-18 10:56:33 - INFO - page 200 scraped. Results size: 4975\n",
      "2025-04-18 10:56:43 - INFO - page 210 scraped. Results size: 5225\n",
      "2025-04-18 10:56:54 - INFO - page 220 scraped. Results size: 5475\n",
      "2025-04-18 10:57:04 - INFO - page 230 scraped. Results size: 5725\n",
      "2025-04-18 10:57:13 - INFO - page 240 scraped. Results size: 5975\n",
      "2025-04-18 10:57:23 - INFO - page 250 scraped. Results size: 6225\n",
      "2025-04-18 10:57:32 - INFO - page 260 scraped. Results size: 6475\n",
      "2025-04-18 10:57:41 - INFO - page 270 scraped. Results size: 6725\n",
      "2025-04-18 10:57:50 - INFO - page 280 scraped. Results size: 6975\n",
      "2025-04-18 10:57:59 - INFO - page 290 scraped. Results size: 7225\n",
      "2025-04-18 10:58:08 - INFO - page 300 scraped. Results size: 7475\n",
      "2025-04-18 10:58:19 - INFO - page 310 scraped. Results size: 7725\n",
      "2025-04-18 10:58:28 - INFO - page 320 scraped. Results size: 7975\n",
      "2025-04-18 10:58:31 - INFO - scraping pages with params: {'age': 18, 'sex': 'W'}\n"
     ]
    },
    {
     "name": "stdout",
     "output_type": "stream",
     "text": [
      "Warning: scraper incompatible page for page: https://brighton.r.mikatiming.com/2025/?page=323&event=BRMA&pid=search&search%5Bage_class%5D=18&search%5Bsex%5D=M&search%5Bnation%5D=%25&search_sort=name\n"
     ]
    },
    {
     "name": "stderr",
     "output_type": "stream",
     "text": [
      "2025-04-18 10:58:37 - INFO - page 10 scraped. Results size: 225\n",
      "2025-04-18 10:58:45 - INFO - page 20 scraped. Results size: 475\n",
      "2025-04-18 10:58:53 - INFO - page 30 scraped. Results size: 725\n",
      "2025-04-18 10:59:01 - INFO - page 40 scraped. Results size: 975\n",
      "2025-04-18 10:59:10 - INFO - page 50 scraped. Results size: 1225\n",
      "2025-04-18 10:59:21 - INFO - page 60 scraped. Results size: 1475\n",
      "2025-04-18 10:59:31 - INFO - page 70 scraped. Results size: 1725\n",
      "2025-04-18 10:59:40 - INFO - page 80 scraped. Results size: 1975\n",
      "2025-04-18 10:59:48 - INFO - page 90 scraped. Results size: 2225\n",
      "2025-04-18 10:59:56 - INFO - page 100 scraped. Results size: 2475\n",
      "2025-04-18 11:00:06 - INFO - page 110 scraped. Results size: 2725\n",
      "2025-04-18 11:00:23 - INFO - page 120 scraped. Results size: 2975\n",
      "2025-04-18 11:00:31 - INFO - page 130 scraped. Results size: 3225\n",
      "2025-04-18 11:00:40 - INFO - page 140 scraped. Results size: 3475\n",
      "2025-04-18 11:00:47 - INFO - page 150 scraped. Results size: 3725\n",
      "2025-04-18 11:00:56 - INFO - page 160 scraped. Results size: 3975\n",
      "2025-04-18 11:01:04 - INFO - page 170 scraped. Results size: 4225\n",
      "2025-04-18 11:01:13 - INFO - page 180 scraped. Results size: 4475\n",
      "2025-04-18 11:01:21 - INFO - page 190 scraped. Results size: 4725\n",
      "2025-04-18 11:01:26 - INFO - scraping pages with params: {'age': 18, 'sex': 'D'}\n"
     ]
    },
    {
     "name": "stdout",
     "output_type": "stream",
     "text": [
      "Warning: scraper incompatible page for page: https://brighton.r.mikatiming.com/2025/?page=195&event=BRMA&pid=search&search%5Bage_class%5D=18&search%5Bsex%5D=W&search%5Bnation%5D=%25&search_sort=name\n"
     ]
    },
    {
     "name": "stderr",
     "output_type": "stream",
     "text": [
      "2025-04-18 11:01:27 - INFO - scraping pages with params: {'age': 40, 'sex': 'M'}\n"
     ]
    },
    {
     "name": "stdout",
     "output_type": "stream",
     "text": [
      "Warning: scraper incompatible page for page: https://brighton.r.mikatiming.com/2025/?page=3&event=BRMA&pid=search&search%5Bage_class%5D=18&search%5Bsex%5D=D&search%5Bnation%5D=%25&search_sort=name\n"
     ]
    },
    {
     "name": "stderr",
     "output_type": "stream",
     "text": [
      "2025-04-18 11:01:34 - INFO - page 10 scraped. Results size: 225\n",
      "2025-04-18 11:01:42 - INFO - page 20 scraped. Results size: 475\n",
      "2025-04-18 11:01:50 - INFO - page 30 scraped. Results size: 725\n",
      "2025-04-18 11:02:00 - INFO - page 40 scraped. Results size: 975\n",
      "2025-04-18 11:02:11 - INFO - page 50 scraped. Results size: 1225\n",
      "2025-04-18 11:02:22 - INFO - page 60 scraped. Results size: 1451\n",
      "2025-04-18 11:02:23 - INFO - scraping pages with params: {'age': 40, 'sex': 'W'}\n"
     ]
    },
    {
     "name": "stdout",
     "output_type": "stream",
     "text": [
      "Warning: scraper incompatible page for page: https://brighton.r.mikatiming.com/2025/?page=60&event=BRMA&pid=search&search%5Bage_class%5D=40&search%5Bsex%5D=M&search%5Bnation%5D=%25&search_sort=name\n"
     ]
    },
    {
     "name": "stderr",
     "output_type": "stream",
     "text": [
      "2025-04-18 11:02:30 - INFO - page 10 scraped. Results size: 225\n",
      "2025-04-18 11:02:39 - INFO - page 20 scraped. Results size: 475\n",
      "2025-04-18 11:02:49 - INFO - page 30 scraped. Results size: 725\n",
      "2025-04-18 11:02:51 - INFO - scraping pages with params: {'age': 40, 'sex': 'D'}\n"
     ]
    },
    {
     "name": "stdout",
     "output_type": "stream",
     "text": [
      "Warning: scraper incompatible page for page: https://brighton.r.mikatiming.com/2025/?page=31&event=BRMA&pid=search&search%5Bage_class%5D=40&search%5Bsex%5D=W&search%5Bnation%5D=%25&search_sort=name\n"
     ]
    },
    {
     "name": "stderr",
     "output_type": "stream",
     "text": [
      "2025-04-18 11:02:52 - INFO - scraping pages with params: {'age': 45, 'sex': 'M'}\n"
     ]
    },
    {
     "name": "stdout",
     "output_type": "stream",
     "text": [
      "Warning: scraper incompatible page for page: https://brighton.r.mikatiming.com/2025/?page=2&event=BRMA&pid=search&search%5Bage_class%5D=40&search%5Bsex%5D=D&search%5Bnation%5D=%25&search_sort=name\n"
     ]
    },
    {
     "name": "stderr",
     "output_type": "stream",
     "text": [
      "2025-04-18 11:02:59 - INFO - page 10 scraped. Results size: 225\n",
      "2025-04-18 11:03:08 - INFO - page 20 scraped. Results size: 475\n",
      "2025-04-18 11:03:17 - INFO - page 30 scraped. Results size: 725\n",
      "2025-04-18 11:03:27 - INFO - page 40 scraped. Results size: 975\n",
      "2025-04-18 11:03:37 - INFO - page 50 scraped. Results size: 1204\n",
      "2025-04-18 11:03:38 - INFO - scraping pages with params: {'age': 45, 'sex': 'W'}\n"
     ]
    },
    {
     "name": "stdout",
     "output_type": "stream",
     "text": [
      "Warning: scraper incompatible page for page: https://brighton.r.mikatiming.com/2025/?page=50&event=BRMA&pid=search&search%5Bage_class%5D=45&search%5Bsex%5D=M&search%5Bnation%5D=%25&search_sort=name\n"
     ]
    },
    {
     "name": "stderr",
     "output_type": "stream",
     "text": [
      "2025-04-18 11:03:44 - INFO - page 10 scraped. Results size: 225\n",
      "2025-04-18 11:03:53 - INFO - page 20 scraped. Results size: 475\n",
      "2025-04-18 11:04:04 - INFO - scraping pages with params: {'age': 45, 'sex': 'D'}\n"
     ]
    },
    {
     "name": "stdout",
     "output_type": "stream",
     "text": [
      "Warning: scraper incompatible page for page: https://brighton.r.mikatiming.com/2025/?page=28&event=BRMA&pid=search&search%5Bage_class%5D=45&search%5Bsex%5D=W&search%5Bnation%5D=%25&search_sort=name\n"
     ]
    },
    {
     "name": "stderr",
     "output_type": "stream",
     "text": [
      "2025-04-18 11:04:04 - INFO - scraping pages with params: {'age': 50, 'sex': 'M'}\n"
     ]
    },
    {
     "name": "stdout",
     "output_type": "stream",
     "text": [
      "Warning: scraper incompatible page for page: https://brighton.r.mikatiming.com/2025/?page=2&event=BRMA&pid=search&search%5Bage_class%5D=45&search%5Bsex%5D=D&search%5Bnation%5D=%25&search_sort=name\n"
     ]
    },
    {
     "name": "stderr",
     "output_type": "stream",
     "text": [
      "2025-04-18 11:04:11 - INFO - page 10 scraped. Results size: 225\n",
      "2025-04-18 11:04:21 - INFO - page 20 scraped. Results size: 475\n",
      "2025-04-18 11:04:29 - INFO - page 30 scraped. Results size: 725\n",
      "2025-04-18 11:04:41 - INFO - page 40 scraped. Results size: 975\n",
      "2025-04-18 11:04:43 - INFO - scraping pages with params: {'age': 50, 'sex': 'W'}\n"
     ]
    },
    {
     "name": "stdout",
     "output_type": "stream",
     "text": [
      "Warning: scraper incompatible page for page: https://brighton.r.mikatiming.com/2025/?page=42&event=BRMA&pid=search&search%5Bage_class%5D=50&search%5Bsex%5D=M&search%5Bnation%5D=%25&search_sort=name\n"
     ]
    },
    {
     "name": "stderr",
     "output_type": "stream",
     "text": [
      "2025-04-18 11:04:51 - INFO - page 10 scraped. Results size: 225\n",
      "2025-04-18 11:05:01 - INFO - page 20 scraped. Results size: 475\n",
      "2025-04-18 11:05:05 - INFO - scraping pages with params: {'age': 50, 'sex': 'D'}\n"
     ]
    },
    {
     "name": "stdout",
     "output_type": "stream",
     "text": [
      "Warning: scraper incompatible page for page: https://brighton.r.mikatiming.com/2025/?page=23&event=BRMA&pid=search&search%5Bage_class%5D=50&search%5Bsex%5D=W&search%5Bnation%5D=%25&search_sort=name\n"
     ]
    },
    {
     "name": "stderr",
     "output_type": "stream",
     "text": [
      "2025-04-18 11:05:06 - INFO - scraping pages with params: {'age': 55, 'sex': 'M'}\n"
     ]
    },
    {
     "name": "stdout",
     "output_type": "stream",
     "text": [
      "Warning: scraper incompatible page for page: https://brighton.r.mikatiming.com/2025/?page=2&event=BRMA&pid=search&search%5Bage_class%5D=50&search%5Bsex%5D=D&search%5Bnation%5D=%25&search_sort=name\n"
     ]
    },
    {
     "name": "stderr",
     "output_type": "stream",
     "text": [
      "2025-04-18 11:05:14 - INFO - page 10 scraped. Results size: 225\n",
      "2025-04-18 11:05:23 - INFO - page 20 scraped. Results size: 475\n",
      "2025-04-18 11:05:30 - INFO - scraping pages with params: {'age': 55, 'sex': 'W'}\n"
     ]
    },
    {
     "name": "stdout",
     "output_type": "stream",
     "text": [
      "Warning: scraper incompatible page for page: https://brighton.r.mikatiming.com/2025/?page=26&event=BRMA&pid=search&search%5Bage_class%5D=55&search%5Bsex%5D=M&search%5Bnation%5D=%25&search_sort=name\n"
     ]
    },
    {
     "name": "stderr",
     "output_type": "stream",
     "text": [
      "2025-04-18 11:05:38 - INFO - page 10 scraped. Results size: 225\n",
      "2025-04-18 11:05:44 - INFO - scraping pages with params: {'age': 55, 'sex': 'D'}\n"
     ]
    },
    {
     "name": "stdout",
     "output_type": "stream",
     "text": [
      "Warning: scraper incompatible page for page: https://brighton.r.mikatiming.com/2025/?page=14&event=BRMA&pid=search&search%5Bage_class%5D=55&search%5Bsex%5D=W&search%5Bnation%5D=%25&search_sort=name\n"
     ]
    },
    {
     "name": "stderr",
     "output_type": "stream",
     "text": [
      "2025-04-18 11:05:44 - INFO - scraping pages with params: {'age': 60, 'sex': 'M'}\n"
     ]
    },
    {
     "name": "stdout",
     "output_type": "stream",
     "text": [
      "Warning: scraper incompatible page for page: https://brighton.r.mikatiming.com/2025/?page=2&event=BRMA&pid=search&search%5Bage_class%5D=55&search%5Bsex%5D=D&search%5Bnation%5D=%25&search_sort=name\n"
     ]
    },
    {
     "name": "stderr",
     "output_type": "stream",
     "text": [
      "2025-04-18 11:05:55 - INFO - page 10 scraped. Results size: 225\n",
      "2025-04-18 11:06:01 - INFO - scraping pages with params: {'age': 60, 'sex': 'W'}\n"
     ]
    },
    {
     "name": "stdout",
     "output_type": "stream",
     "text": [
      "Warning: scraper incompatible page for page: https://brighton.r.mikatiming.com/2025/?page=16&event=BRMA&pid=search&search%5Bage_class%5D=60&search%5Bsex%5D=M&search%5Bnation%5D=%25&search_sort=name\n"
     ]
    },
    {
     "name": "stderr",
     "output_type": "stream",
     "text": [
      "2025-04-18 11:06:07 - INFO - scraping pages with params: {'age': 60, 'sex': 'D'}\n"
     ]
    },
    {
     "name": "stdout",
     "output_type": "stream",
     "text": [
      "Warning: scraper incompatible page for page: https://brighton.r.mikatiming.com/2025/?page=6&event=BRMA&pid=search&search%5Bage_class%5D=60&search%5Bsex%5D=W&search%5Bnation%5D=%25&search_sort=name\n"
     ]
    },
    {
     "name": "stderr",
     "output_type": "stream",
     "text": [
      "2025-04-18 11:06:08 - INFO - scraping pages with params: {'age': 65, 'sex': 'M'}\n"
     ]
    },
    {
     "name": "stdout",
     "output_type": "stream",
     "text": [
      "Warning: scraper incompatible page for page: https://brighton.r.mikatiming.com/2025/?page=2&event=BRMA&pid=search&search%5Bage_class%5D=60&search%5Bsex%5D=D&search%5Bnation%5D=%25&search_sort=name\n"
     ]
    },
    {
     "name": "stderr",
     "output_type": "stream",
     "text": [
      "2025-04-18 11:06:14 - INFO - scraping pages with params: {'age': 65, 'sex': 'W'}\n"
     ]
    },
    {
     "name": "stdout",
     "output_type": "stream",
     "text": [
      "Warning: scraper incompatible page for page: https://brighton.r.mikatiming.com/2025/?page=6&event=BRMA&pid=search&search%5Bage_class%5D=65&search%5Bsex%5D=M&search%5Bnation%5D=%25&search_sort=name\n"
     ]
    },
    {
     "name": "stderr",
     "output_type": "stream",
     "text": [
      "2025-04-18 11:06:17 - INFO - scraping pages with params: {'age': 65, 'sex': 'D'}\n"
     ]
    },
    {
     "name": "stdout",
     "output_type": "stream",
     "text": [
      "Warning: scraper incompatible page for page: https://brighton.r.mikatiming.com/2025/?page=3&event=BRMA&pid=search&search%5Bage_class%5D=65&search%5Bsex%5D=W&search%5Bnation%5D=%25&search_sort=name\n"
     ]
    },
    {
     "name": "stderr",
     "output_type": "stream",
     "text": [
      "2025-04-18 11:06:17 - INFO - scraping pages with params: {'age': 70, 'sex': 'M'}\n"
     ]
    },
    {
     "name": "stdout",
     "output_type": "stream",
     "text": [
      "Warning: scraper incompatible page for page: https://brighton.r.mikatiming.com/2025/?page=1&event=BRMA&pid=search&search%5Bage_class%5D=65&search%5Bsex%5D=D&search%5Bnation%5D=%25&search_sort=name\n"
     ]
    },
    {
     "name": "stderr",
     "output_type": "stream",
     "text": [
      "2025-04-18 11:06:20 - INFO - scraping pages with params: {'age': 70, 'sex': 'W'}\n"
     ]
    },
    {
     "name": "stdout",
     "output_type": "stream",
     "text": [
      "Warning: scraper incompatible page for page: https://brighton.r.mikatiming.com/2025/?page=3&event=BRMA&pid=search&search%5Bage_class%5D=70&search%5Bsex%5D=M&search%5Bnation%5D=%25&search_sort=name\n"
     ]
    },
    {
     "name": "stderr",
     "output_type": "stream",
     "text": [
      "2025-04-18 11:06:21 - INFO - scraping pages with params: {'age': 70, 'sex': 'D'}\n"
     ]
    },
    {
     "name": "stdout",
     "output_type": "stream",
     "text": [
      "Warning: scraper incompatible page for page: https://brighton.r.mikatiming.com/2025/?page=2&event=BRMA&pid=search&search%5Bage_class%5D=70&search%5Bsex%5D=W&search%5Bnation%5D=%25&search_sort=name\n"
     ]
    },
    {
     "name": "stderr",
     "output_type": "stream",
     "text": [
      "2025-04-18 11:06:22 - INFO - scraping pages with params: {'age': 75, 'sex': 'M'}\n"
     ]
    },
    {
     "name": "stdout",
     "output_type": "stream",
     "text": [
      "Warning: scraper incompatible page for page: https://brighton.r.mikatiming.com/2025/?page=1&event=BRMA&pid=search&search%5Bage_class%5D=70&search%5Bsex%5D=D&search%5Bnation%5D=%25&search_sort=name\n"
     ]
    },
    {
     "name": "stderr",
     "output_type": "stream",
     "text": [
      "2025-04-18 11:06:23 - INFO - scraping pages with params: {'age': 75, 'sex': 'W'}\n"
     ]
    },
    {
     "name": "stdout",
     "output_type": "stream",
     "text": [
      "Warning: scraper incompatible page for page: https://brighton.r.mikatiming.com/2025/?page=2&event=BRMA&pid=search&search%5Bage_class%5D=75&search%5Bsex%5D=M&search%5Bnation%5D=%25&search_sort=name\n"
     ]
    },
    {
     "name": "stderr",
     "output_type": "stream",
     "text": [
      "2025-04-18 11:06:24 - INFO - scraping pages with params: {'age': 75, 'sex': 'D'}\n"
     ]
    },
    {
     "name": "stdout",
     "output_type": "stream",
     "text": [
      "Warning: scraper incompatible page for page: https://brighton.r.mikatiming.com/2025/?page=2&event=BRMA&pid=search&search%5Bage_class%5D=75&search%5Bsex%5D=W&search%5Bnation%5D=%25&search_sort=name\n",
      "Warning: scraper incompatible page for page: https://brighton.r.mikatiming.com/2025/?page=1&event=BRMA&pid=search&search%5Bage_class%5D=75&search%5Bsex%5D=D&search%5Bnation%5D=%25&search_sort=name\n"
     ]
    }
   ],
   "source": [
    "\n",
    "running_data = pd.DataFrame()\n",
    "\n",
    "keys = search_params.keys()\n",
    "for values in product(*search_params.values()):\n",
    "    combo = dict(zip(keys, values))\n",
    "    \n",
    "    logging.info(f'scraping pages with params: {combo}')\n",
    "\n",
    "    running_data = pd.concat([running_data, scrape_all_pages(combo)])\n"
   ]
  },
  {
   "cell_type": "code",
   "execution_count": 16,
   "metadata": {},
   "outputs": [],
   "source": [
    "running_data.to_csv(RUNNING_DATA_PATH)"
   ]
  },
  {
   "cell_type": "markdown",
   "metadata": {},
   "source": [
    "# Get Individual Times"
   ]
  },
  {
   "cell_type": "code",
   "execution_count": 17,
   "metadata": {},
   "outputs": [
    {
     "data": {
      "text/html": [
       "<div>\n",
       "<style scoped>\n",
       "    .dataframe tbody tr th:only-of-type {\n",
       "        vertical-align: middle;\n",
       "    }\n",
       "\n",
       "    .dataframe tbody tr th {\n",
       "        vertical-align: top;\n",
       "    }\n",
       "\n",
       "    .dataframe thead th {\n",
       "        text-align: right;\n",
       "    }\n",
       "</style>\n",
       "<table border=\"1\" class=\"dataframe\">\n",
       "  <thead>\n",
       "    <tr style=\"text-align: right;\">\n",
       "      <th></th>\n",
       "      <th>bib_number</th>\n",
       "      <th>name</th>\n",
       "      <th>finish_time</th>\n",
       "      <th>hyper_link</th>\n",
       "      <th>sex</th>\n",
       "      <th>age</th>\n",
       "    </tr>\n",
       "  </thead>\n",
       "  <tbody>\n",
       "    <tr>\n",
       "      <th>0</th>\n",
       "      <td>15554</td>\n",
       "      <td>Matt Aaronson</td>\n",
       "      <td>03:51:13</td>\n",
       "      <td>?content=detail&amp;fpid=search&amp;pid=search&amp;idp=9TG...</td>\n",
       "      <td>M</td>\n",
       "      <td>18</td>\n",
       "    </tr>\n",
       "    <tr>\n",
       "      <th>1</th>\n",
       "      <td>35638</td>\n",
       "      <td>Younnis Abbad-Andaloussi</td>\n",
       "      <td>–</td>\n",
       "      <td>?content=detail&amp;fpid=search&amp;pid=search&amp;idp=9TG...</td>\n",
       "      <td>M</td>\n",
       "      <td>18</td>\n",
       "    </tr>\n",
       "    <tr>\n",
       "      <th>2</th>\n",
       "      <td>16565</td>\n",
       "      <td>Aaron Abbott</td>\n",
       "      <td>–</td>\n",
       "      <td>?content=detail&amp;fpid=search&amp;pid=search&amp;idp=9TG...</td>\n",
       "      <td>M</td>\n",
       "      <td>18</td>\n",
       "    </tr>\n",
       "    <tr>\n",
       "      <th>3</th>\n",
       "      <td>32897</td>\n",
       "      <td>Adam Abbott</td>\n",
       "      <td>05:18:58</td>\n",
       "      <td>?content=detail&amp;fpid=search&amp;pid=search&amp;idp=9TG...</td>\n",
       "      <td>M</td>\n",
       "      <td>18</td>\n",
       "    </tr>\n",
       "    <tr>\n",
       "      <th>4</th>\n",
       "      <td>20095</td>\n",
       "      <td>Alexander Abbott</td>\n",
       "      <td>03:21:27</td>\n",
       "      <td>?content=detail&amp;fpid=search&amp;pid=search&amp;idp=9TG...</td>\n",
       "      <td>M</td>\n",
       "      <td>18</td>\n",
       "    </tr>\n",
       "  </tbody>\n",
       "</table>\n",
       "</div>"
      ],
      "text/plain": [
       "  bib_number                      name finish_time  \\\n",
       "0      15554             Matt Aaronson    03:51:13   \n",
       "1      35638  Younnis Abbad-Andaloussi           –   \n",
       "2      16565              Aaron Abbott           –   \n",
       "3      32897               Adam Abbott    05:18:58   \n",
       "4      20095          Alexander Abbott    03:21:27   \n",
       "\n",
       "                                          hyper_link sex  age  \n",
       "0  ?content=detail&fpid=search&pid=search&idp=9TG...   M   18  \n",
       "1  ?content=detail&fpid=search&pid=search&idp=9TG...   M   18  \n",
       "2  ?content=detail&fpid=search&pid=search&idp=9TG...   M   18  \n",
       "3  ?content=detail&fpid=search&pid=search&idp=9TG...   M   18  \n",
       "4  ?content=detail&fpid=search&pid=search&idp=9TG...   M   18  "
      ]
     },
     "execution_count": 17,
     "metadata": {},
     "output_type": "execute_result"
    }
   ],
   "source": [
    "running_data.head()"
   ]
  },
  {
   "cell_type": "code",
   "execution_count": 18,
   "metadata": {},
   "outputs": [],
   "source": [
    "running_data = pd.read_csv(RUNNING_DATA_PATH)"
   ]
  },
  {
   "cell_type": "code",
   "execution_count": 19,
   "metadata": {},
   "outputs": [
    {
     "name": "stderr",
     "output_type": "stream",
     "text": [
      "2025-04-18 11:06:25 - INFO - index 0 scraped. Results size: 0\n",
      "2025-04-18 11:06:55 - INFO - index 100 scraped. Results size: 0\n",
      "2025-04-18 11:07:25 - INFO - index 200 scraped. Results size: 0\n",
      "2025-04-18 11:07:55 - INFO - index 300 scraped. Results size: 0\n",
      "2025-04-18 11:08:26 - INFO - index 400 scraped. Results size: 0\n",
      "2025-04-18 11:08:57 - INFO - index 500 scraped. Results size: 0\n",
      "2025-04-18 11:09:29 - INFO - index 600 scraped. Results size: 0\n",
      "2025-04-18 11:10:01 - INFO - index 700 scraped. Results size: 0\n",
      "2025-04-18 11:10:34 - INFO - index 800 scraped. Results size: 0\n",
      "2025-04-18 11:11:09 - INFO - index 900 scraped. Results size: 0\n",
      "2025-04-18 11:11:44 - INFO - index 1000 scraped. Results size: 0\n",
      "2025-04-18 11:12:19 - INFO - index 1100 scraped. Results size: 0\n",
      "2025-04-18 11:12:52 - INFO - index 1200 scraped. Results size: 0\n",
      "2025-04-18 11:13:30 - INFO - index 1300 scraped. Results size: 0\n",
      "2025-04-18 11:14:08 - INFO - index 1400 scraped. Results size: 0\n"
     ]
    },
    {
     "ename": "KeyboardInterrupt",
     "evalue": "",
     "output_type": "error",
     "traceback": [
      "\u001b[1;31m---------------------------------------------------------------------------\u001b[0m",
      "\u001b[1;31mKeyboardInterrupt\u001b[0m                         Traceback (most recent call last)",
      "Cell \u001b[1;32mIn[19], line 4\u001b[0m\n\u001b[0;32m      1\u001b[0m individual_running_data \u001b[38;5;241m=\u001b[39m pd\u001b[38;5;241m.\u001b[39mDataFrame()\n\u001b[0;32m      3\u001b[0m \u001b[38;5;28;01mfor\u001b[39;00m index, row \u001b[38;5;129;01min\u001b[39;00m running_data\u001b[38;5;241m.\u001b[39miterrows():\n\u001b[1;32m----> 4\u001b[0m     ind_data \u001b[38;5;241m=\u001b[39m \u001b[43mscraper\u001b[49m\u001b[38;5;241;43m.\u001b[39;49m\u001b[43mscrape_individual_data\u001b[49m\u001b[43m(\u001b[49m\u001b[43mMARATHON_URL\u001b[49m\u001b[43m \u001b[49m\u001b[38;5;241;43m+\u001b[39;49m\u001b[43m \u001b[49m\u001b[43mrow\u001b[49m\u001b[43m[\u001b[49m\u001b[38;5;124;43m'\u001b[39;49m\u001b[38;5;124;43mhyper_link\u001b[39;49m\u001b[38;5;124;43m'\u001b[39;49m\u001b[43m]\u001b[49m\u001b[43m)\u001b[49m\n\u001b[0;32m      5\u001b[0m     ind_data[\u001b[38;5;124m'\u001b[39m\u001b[38;5;124mbib_number\u001b[39m\u001b[38;5;124m'\u001b[39m] \u001b[38;5;241m=\u001b[39m row[\u001b[38;5;124m'\u001b[39m\u001b[38;5;124mbib_number\u001b[39m\u001b[38;5;124m'\u001b[39m]\n\u001b[0;32m      7\u001b[0m     individual_running_data \u001b[38;5;241m=\u001b[39m pd\u001b[38;5;241m.\u001b[39mconcat([individual_running_data, ind_data])\n",
      "File \u001b[1;32mc:\\brighton_marathon_analysis\\src\\Scraper.py:84\u001b[0m, in \u001b[0;36mScraper.scrape_individual_data\u001b[1;34m(self, url)\u001b[0m\n\u001b[0;32m     78\u001b[0m \u001b[38;5;28;01mdef\u001b[39;00m \u001b[38;5;21mscrape_individual_data\u001b[39m(\u001b[38;5;28mself\u001b[39m, url: \u001b[38;5;28mstr\u001b[39m) \u001b[38;5;241m-\u001b[39m\u001b[38;5;241m>\u001b[39m pd\u001b[38;5;241m.\u001b[39mDataFrame:\n\u001b[0;32m     79\u001b[0m \u001b[38;5;250m    \u001b[39m\u001b[38;5;124;03m\"\"\" \u001b[39;00m\n\u001b[0;32m     80\u001b[0m \u001b[38;5;124;03m    Scrape data for an individual runner from page of format:\u001b[39;00m\n\u001b[0;32m     81\u001b[0m \u001b[38;5;124;03m    https://brighton.r.mikatiming.com/2025/?content=detail&fpid=list&pid=list&idp=9TGEELFR267AA&lang=EN_CAP&event=BRMA&&search_event=BRMA\u001b[39;00m\n\u001b[0;32m     82\u001b[0m \u001b[38;5;124;03m    \"\"\"\u001b[39;00m\n\u001b[1;32m---> 84\u001b[0m     soup \u001b[38;5;241m=\u001b[39m \u001b[38;5;28;43mself\u001b[39;49m\u001b[38;5;241;43m.\u001b[39;49m\u001b[43m__load_and_parse_page\u001b[49m\u001b[43m(\u001b[49m\u001b[43murl\u001b[49m\u001b[43m)\u001b[49m\n\u001b[0;32m     86\u001b[0m     \u001b[38;5;66;03m#use a try block since not everyone turned up and has split times associated.\u001b[39;00m\n\u001b[0;32m     87\u001b[0m     \u001b[38;5;28;01mtry\u001b[39;00m:\n\u001b[0;32m     88\u001b[0m         \u001b[38;5;66;03m#retrieve split times table\u001b[39;00m\n",
      "File \u001b[1;32mc:\\brighton_marathon_analysis\\src\\Scraper.py:40\u001b[0m, in \u001b[0;36m__load_and_parse_page\u001b[1;34m(self, url, test_section)\u001b[0m\n\u001b[0;32m     37\u001b[0m \u001b[38;5;28;01mdef\u001b[39;00m \u001b[38;5;21m__load_and_parse_page\u001b[39m(\u001b[38;5;28mself\u001b[39m, url: \u001b[38;5;28mstr\u001b[39m, test_section: \u001b[38;5;28mstr\u001b[39m \u001b[38;5;241m=\u001b[39m \u001b[38;5;124m'\u001b[39m\u001b[38;5;124msection.section-main\u001b[39m\u001b[38;5;124m'\u001b[39m ) \u001b[38;5;241m-\u001b[39m\u001b[38;5;241m>\u001b[39m BeautifulSoup:\n\u001b[0;32m     38\u001b[0m \u001b[38;5;250m    \u001b[39m\u001b[38;5;124;03m\"\"\" \u001b[39;00m\n\u001b[0;32m     39\u001b[0m \u001b[38;5;124;03m    Loads and parses the page of the url \u001b[39;00m\n\u001b[1;32m---> 40\u001b[0m \u001b[38;5;124;03m    \"\"\"\u001b[39;00m\n\u001b[0;32m     42\u001b[0m     \u001b[38;5;28mself\u001b[39m\u001b[38;5;241m.\u001b[39mdriver\u001b[38;5;241m.\u001b[39mget(url)\n\u001b[0;32m     44\u001b[0m     WebDriverWait(\u001b[38;5;28mself\u001b[39m\u001b[38;5;241m.\u001b[39mdriver, \u001b[38;5;241m5\u001b[39m)\u001b[38;5;241m.\u001b[39muntil(\n\u001b[0;32m     45\u001b[0m         EC\u001b[38;5;241m.\u001b[39mpresence_of_element_located((By\u001b[38;5;241m.\u001b[39mCSS_SELECTOR, test_section))\n\u001b[0;32m     46\u001b[0m     )\n",
      "File \u001b[1;32mc:\\Users\\norri\\AppData\\Local\\Programs\\Python\\Python312\\Lib\\site-packages\\selenium\\webdriver\\remote\\webdriver.py:454\u001b[0m, in \u001b[0;36mWebDriver.get\u001b[1;34m(self, url)\u001b[0m\n\u001b[0;32m    436\u001b[0m \u001b[38;5;28;01mdef\u001b[39;00m \u001b[38;5;21mget\u001b[39m(\u001b[38;5;28mself\u001b[39m, url: \u001b[38;5;28mstr\u001b[39m) \u001b[38;5;241m-\u001b[39m\u001b[38;5;241m>\u001b[39m \u001b[38;5;28;01mNone\u001b[39;00m:\n\u001b[0;32m    437\u001b[0m \u001b[38;5;250m    \u001b[39m\u001b[38;5;124;03m\"\"\"Navigate the browser to the specified URL in the current window or\u001b[39;00m\n\u001b[0;32m    438\u001b[0m \u001b[38;5;124;03m    tab.\u001b[39;00m\n\u001b[0;32m    439\u001b[0m \n\u001b[1;32m   (...)\u001b[0m\n\u001b[0;32m    452\u001b[0m \u001b[38;5;124;03m    >>> driver.get(\"https://example.com\")\u001b[39;00m\n\u001b[0;32m    453\u001b[0m \u001b[38;5;124;03m    \"\"\"\u001b[39;00m\n\u001b[1;32m--> 454\u001b[0m     \u001b[38;5;28;43mself\u001b[39;49m\u001b[38;5;241;43m.\u001b[39;49m\u001b[43mexecute\u001b[49m\u001b[43m(\u001b[49m\u001b[43mCommand\u001b[49m\u001b[38;5;241;43m.\u001b[39;49m\u001b[43mGET\u001b[49m\u001b[43m,\u001b[49m\u001b[43m \u001b[49m\u001b[43m{\u001b[49m\u001b[38;5;124;43m\"\u001b[39;49m\u001b[38;5;124;43murl\u001b[39;49m\u001b[38;5;124;43m\"\u001b[39;49m\u001b[43m:\u001b[49m\u001b[43m \u001b[49m\u001b[43murl\u001b[49m\u001b[43m}\u001b[49m\u001b[43m)\u001b[49m\n",
      "File \u001b[1;32mc:\\Users\\norri\\AppData\\Local\\Programs\\Python\\Python312\\Lib\\site-packages\\selenium\\webdriver\\remote\\webdriver.py:427\u001b[0m, in \u001b[0;36mWebDriver.execute\u001b[1;34m(self, driver_command, params)\u001b[0m\n\u001b[0;32m    424\u001b[0m     \u001b[38;5;28;01melif\u001b[39;00m \u001b[38;5;124m\"\u001b[39m\u001b[38;5;124msessionId\u001b[39m\u001b[38;5;124m\"\u001b[39m \u001b[38;5;129;01mnot\u001b[39;00m \u001b[38;5;129;01min\u001b[39;00m params:\n\u001b[0;32m    425\u001b[0m         params[\u001b[38;5;124m\"\u001b[39m\u001b[38;5;124msessionId\u001b[39m\u001b[38;5;124m\"\u001b[39m] \u001b[38;5;241m=\u001b[39m \u001b[38;5;28mself\u001b[39m\u001b[38;5;241m.\u001b[39msession_id\n\u001b[1;32m--> 427\u001b[0m response \u001b[38;5;241m=\u001b[39m \u001b[38;5;28;43mself\u001b[39;49m\u001b[38;5;241;43m.\u001b[39;49m\u001b[43mcommand_executor\u001b[49m\u001b[38;5;241;43m.\u001b[39;49m\u001b[43mexecute\u001b[49m\u001b[43m(\u001b[49m\u001b[43mdriver_command\u001b[49m\u001b[43m,\u001b[49m\u001b[43m \u001b[49m\u001b[43mparams\u001b[49m\u001b[43m)\u001b[49m\n\u001b[0;32m    428\u001b[0m \u001b[38;5;28;01mif\u001b[39;00m response:\n\u001b[0;32m    429\u001b[0m     \u001b[38;5;28mself\u001b[39m\u001b[38;5;241m.\u001b[39merror_handler\u001b[38;5;241m.\u001b[39mcheck_response(response)\n",
      "File \u001b[1;32mc:\\Users\\norri\\AppData\\Local\\Programs\\Python\\Python312\\Lib\\site-packages\\selenium\\webdriver\\remote\\remote_connection.py:404\u001b[0m, in \u001b[0;36mRemoteConnection.execute\u001b[1;34m(self, command, params)\u001b[0m\n\u001b[0;32m    402\u001b[0m trimmed \u001b[38;5;241m=\u001b[39m \u001b[38;5;28mself\u001b[39m\u001b[38;5;241m.\u001b[39m_trim_large_entries(params)\n\u001b[0;32m    403\u001b[0m LOGGER\u001b[38;5;241m.\u001b[39mdebug(\u001b[38;5;124m\"\u001b[39m\u001b[38;5;132;01m%s\u001b[39;00m\u001b[38;5;124m \u001b[39m\u001b[38;5;132;01m%s\u001b[39;00m\u001b[38;5;124m \u001b[39m\u001b[38;5;132;01m%s\u001b[39;00m\u001b[38;5;124m\"\u001b[39m, command_info[\u001b[38;5;241m0\u001b[39m], url, \u001b[38;5;28mstr\u001b[39m(trimmed))\n\u001b[1;32m--> 404\u001b[0m \u001b[38;5;28;01mreturn\u001b[39;00m \u001b[38;5;28;43mself\u001b[39;49m\u001b[38;5;241;43m.\u001b[39;49m\u001b[43m_request\u001b[49m\u001b[43m(\u001b[49m\u001b[43mcommand_info\u001b[49m\u001b[43m[\u001b[49m\u001b[38;5;241;43m0\u001b[39;49m\u001b[43m]\u001b[49m\u001b[43m,\u001b[49m\u001b[43m \u001b[49m\u001b[43murl\u001b[49m\u001b[43m,\u001b[49m\u001b[43m \u001b[49m\u001b[43mbody\u001b[49m\u001b[38;5;241;43m=\u001b[39;49m\u001b[43mdata\u001b[49m\u001b[43m)\u001b[49m\n",
      "File \u001b[1;32mc:\\Users\\norri\\AppData\\Local\\Programs\\Python\\Python312\\Lib\\site-packages\\selenium\\webdriver\\remote\\remote_connection.py:428\u001b[0m, in \u001b[0;36mRemoteConnection._request\u001b[1;34m(self, method, url, body)\u001b[0m\n\u001b[0;32m    425\u001b[0m     body \u001b[38;5;241m=\u001b[39m \u001b[38;5;28;01mNone\u001b[39;00m\n\u001b[0;32m    427\u001b[0m \u001b[38;5;28;01mif\u001b[39;00m \u001b[38;5;28mself\u001b[39m\u001b[38;5;241m.\u001b[39m_client_config\u001b[38;5;241m.\u001b[39mkeep_alive:\n\u001b[1;32m--> 428\u001b[0m     response \u001b[38;5;241m=\u001b[39m \u001b[38;5;28;43mself\u001b[39;49m\u001b[38;5;241;43m.\u001b[39;49m\u001b[43m_conn\u001b[49m\u001b[38;5;241;43m.\u001b[39;49m\u001b[43mrequest\u001b[49m\u001b[43m(\u001b[49m\u001b[43mmethod\u001b[49m\u001b[43m,\u001b[49m\u001b[43m \u001b[49m\u001b[43murl\u001b[49m\u001b[43m,\u001b[49m\u001b[43m \u001b[49m\u001b[43mbody\u001b[49m\u001b[38;5;241;43m=\u001b[39;49m\u001b[43mbody\u001b[49m\u001b[43m,\u001b[49m\u001b[43m \u001b[49m\u001b[43mheaders\u001b[49m\u001b[38;5;241;43m=\u001b[39;49m\u001b[43mheaders\u001b[49m\u001b[43m,\u001b[49m\u001b[43m \u001b[49m\u001b[43mtimeout\u001b[49m\u001b[38;5;241;43m=\u001b[39;49m\u001b[38;5;28;43mself\u001b[39;49m\u001b[38;5;241;43m.\u001b[39;49m\u001b[43m_client_config\u001b[49m\u001b[38;5;241;43m.\u001b[39;49m\u001b[43mtimeout\u001b[49m\u001b[43m)\u001b[49m\n\u001b[0;32m    429\u001b[0m     statuscode \u001b[38;5;241m=\u001b[39m response\u001b[38;5;241m.\u001b[39mstatus\n\u001b[0;32m    430\u001b[0m \u001b[38;5;28;01melse\u001b[39;00m:\n",
      "File \u001b[1;32mc:\\Users\\norri\\AppData\\Local\\Programs\\Python\\Python312\\Lib\\site-packages\\urllib3\\_request_methods.py:144\u001b[0m, in \u001b[0;36mRequestMethods.request\u001b[1;34m(self, method, url, body, fields, headers, json, **urlopen_kw)\u001b[0m\n\u001b[0;32m    136\u001b[0m     \u001b[38;5;28;01mreturn\u001b[39;00m \u001b[38;5;28mself\u001b[39m\u001b[38;5;241m.\u001b[39mrequest_encode_url(\n\u001b[0;32m    137\u001b[0m         method,\n\u001b[0;32m    138\u001b[0m         url,\n\u001b[1;32m   (...)\u001b[0m\n\u001b[0;32m    141\u001b[0m         \u001b[38;5;241m*\u001b[39m\u001b[38;5;241m*\u001b[39murlopen_kw,\n\u001b[0;32m    142\u001b[0m     )\n\u001b[0;32m    143\u001b[0m \u001b[38;5;28;01melse\u001b[39;00m:\n\u001b[1;32m--> 144\u001b[0m     \u001b[38;5;28;01mreturn\u001b[39;00m \u001b[38;5;28;43mself\u001b[39;49m\u001b[38;5;241;43m.\u001b[39;49m\u001b[43mrequest_encode_body\u001b[49m\u001b[43m(\u001b[49m\n\u001b[0;32m    145\u001b[0m \u001b[43m        \u001b[49m\u001b[43mmethod\u001b[49m\u001b[43m,\u001b[49m\u001b[43m \u001b[49m\u001b[43murl\u001b[49m\u001b[43m,\u001b[49m\u001b[43m \u001b[49m\u001b[43mfields\u001b[49m\u001b[38;5;241;43m=\u001b[39;49m\u001b[43mfields\u001b[49m\u001b[43m,\u001b[49m\u001b[43m \u001b[49m\u001b[43mheaders\u001b[49m\u001b[38;5;241;43m=\u001b[39;49m\u001b[43mheaders\u001b[49m\u001b[43m,\u001b[49m\u001b[43m \u001b[49m\u001b[38;5;241;43m*\u001b[39;49m\u001b[38;5;241;43m*\u001b[39;49m\u001b[43murlopen_kw\u001b[49m\n\u001b[0;32m    146\u001b[0m \u001b[43m    \u001b[49m\u001b[43m)\u001b[49m\n",
      "File \u001b[1;32mc:\\Users\\norri\\AppData\\Local\\Programs\\Python\\Python312\\Lib\\site-packages\\urllib3\\_request_methods.py:279\u001b[0m, in \u001b[0;36mRequestMethods.request_encode_body\u001b[1;34m(self, method, url, fields, headers, encode_multipart, multipart_boundary, **urlopen_kw)\u001b[0m\n\u001b[0;32m    275\u001b[0m     extra_kw[\u001b[38;5;124m\"\u001b[39m\u001b[38;5;124mheaders\u001b[39m\u001b[38;5;124m\"\u001b[39m]\u001b[38;5;241m.\u001b[39msetdefault(\u001b[38;5;124m\"\u001b[39m\u001b[38;5;124mContent-Type\u001b[39m\u001b[38;5;124m\"\u001b[39m, content_type)\n\u001b[0;32m    277\u001b[0m extra_kw\u001b[38;5;241m.\u001b[39mupdate(urlopen_kw)\n\u001b[1;32m--> 279\u001b[0m \u001b[38;5;28;01mreturn\u001b[39;00m \u001b[38;5;28;43mself\u001b[39;49m\u001b[38;5;241;43m.\u001b[39;49m\u001b[43murlopen\u001b[49m\u001b[43m(\u001b[49m\u001b[43mmethod\u001b[49m\u001b[43m,\u001b[49m\u001b[43m \u001b[49m\u001b[43murl\u001b[49m\u001b[43m,\u001b[49m\u001b[43m \u001b[49m\u001b[38;5;241;43m*\u001b[39;49m\u001b[38;5;241;43m*\u001b[39;49m\u001b[43mextra_kw\u001b[49m\u001b[43m)\u001b[49m\n",
      "File \u001b[1;32mc:\\Users\\norri\\AppData\\Local\\Programs\\Python\\Python312\\Lib\\site-packages\\urllib3\\poolmanager.py:444\u001b[0m, in \u001b[0;36mPoolManager.urlopen\u001b[1;34m(self, method, url, redirect, **kw)\u001b[0m\n\u001b[0;32m    442\u001b[0m     response \u001b[38;5;241m=\u001b[39m conn\u001b[38;5;241m.\u001b[39murlopen(method, url, \u001b[38;5;241m*\u001b[39m\u001b[38;5;241m*\u001b[39mkw)\n\u001b[0;32m    443\u001b[0m \u001b[38;5;28;01melse\u001b[39;00m:\n\u001b[1;32m--> 444\u001b[0m     response \u001b[38;5;241m=\u001b[39m \u001b[43mconn\u001b[49m\u001b[38;5;241;43m.\u001b[39;49m\u001b[43murlopen\u001b[49m\u001b[43m(\u001b[49m\u001b[43mmethod\u001b[49m\u001b[43m,\u001b[49m\u001b[43m \u001b[49m\u001b[43mu\u001b[49m\u001b[38;5;241;43m.\u001b[39;49m\u001b[43mrequest_uri\u001b[49m\u001b[43m,\u001b[49m\u001b[43m \u001b[49m\u001b[38;5;241;43m*\u001b[39;49m\u001b[38;5;241;43m*\u001b[39;49m\u001b[43mkw\u001b[49m\u001b[43m)\u001b[49m\n\u001b[0;32m    446\u001b[0m redirect_location \u001b[38;5;241m=\u001b[39m redirect \u001b[38;5;129;01mand\u001b[39;00m response\u001b[38;5;241m.\u001b[39mget_redirect_location()\n\u001b[0;32m    447\u001b[0m \u001b[38;5;28;01mif\u001b[39;00m \u001b[38;5;129;01mnot\u001b[39;00m redirect_location:\n",
      "File \u001b[1;32mc:\\Users\\norri\\AppData\\Local\\Programs\\Python\\Python312\\Lib\\site-packages\\urllib3\\connectionpool.py:793\u001b[0m, in \u001b[0;36mHTTPConnectionPool.urlopen\u001b[1;34m(self, method, url, body, headers, retries, redirect, assert_same_host, timeout, pool_timeout, release_conn, chunked, body_pos, preload_content, decode_content, **response_kw)\u001b[0m\n\u001b[0;32m    790\u001b[0m response_conn \u001b[38;5;241m=\u001b[39m conn \u001b[38;5;28;01mif\u001b[39;00m \u001b[38;5;129;01mnot\u001b[39;00m release_conn \u001b[38;5;28;01melse\u001b[39;00m \u001b[38;5;28;01mNone\u001b[39;00m\n\u001b[0;32m    792\u001b[0m \u001b[38;5;66;03m# Make the request on the HTTPConnection object\u001b[39;00m\n\u001b[1;32m--> 793\u001b[0m response \u001b[38;5;241m=\u001b[39m \u001b[38;5;28;43mself\u001b[39;49m\u001b[38;5;241;43m.\u001b[39;49m\u001b[43m_make_request\u001b[49m\u001b[43m(\u001b[49m\n\u001b[0;32m    794\u001b[0m \u001b[43m    \u001b[49m\u001b[43mconn\u001b[49m\u001b[43m,\u001b[49m\n\u001b[0;32m    795\u001b[0m \u001b[43m    \u001b[49m\u001b[43mmethod\u001b[49m\u001b[43m,\u001b[49m\n\u001b[0;32m    796\u001b[0m \u001b[43m    \u001b[49m\u001b[43murl\u001b[49m\u001b[43m,\u001b[49m\n\u001b[0;32m    797\u001b[0m \u001b[43m    \u001b[49m\u001b[43mtimeout\u001b[49m\u001b[38;5;241;43m=\u001b[39;49m\u001b[43mtimeout_obj\u001b[49m\u001b[43m,\u001b[49m\n\u001b[0;32m    798\u001b[0m \u001b[43m    \u001b[49m\u001b[43mbody\u001b[49m\u001b[38;5;241;43m=\u001b[39;49m\u001b[43mbody\u001b[49m\u001b[43m,\u001b[49m\n\u001b[0;32m    799\u001b[0m \u001b[43m    \u001b[49m\u001b[43mheaders\u001b[49m\u001b[38;5;241;43m=\u001b[39;49m\u001b[43mheaders\u001b[49m\u001b[43m,\u001b[49m\n\u001b[0;32m    800\u001b[0m \u001b[43m    \u001b[49m\u001b[43mchunked\u001b[49m\u001b[38;5;241;43m=\u001b[39;49m\u001b[43mchunked\u001b[49m\u001b[43m,\u001b[49m\n\u001b[0;32m    801\u001b[0m \u001b[43m    \u001b[49m\u001b[43mretries\u001b[49m\u001b[38;5;241;43m=\u001b[39;49m\u001b[43mretries\u001b[49m\u001b[43m,\u001b[49m\n\u001b[0;32m    802\u001b[0m \u001b[43m    \u001b[49m\u001b[43mresponse_conn\u001b[49m\u001b[38;5;241;43m=\u001b[39;49m\u001b[43mresponse_conn\u001b[49m\u001b[43m,\u001b[49m\n\u001b[0;32m    803\u001b[0m \u001b[43m    \u001b[49m\u001b[43mpreload_content\u001b[49m\u001b[38;5;241;43m=\u001b[39;49m\u001b[43mpreload_content\u001b[49m\u001b[43m,\u001b[49m\n\u001b[0;32m    804\u001b[0m \u001b[43m    \u001b[49m\u001b[43mdecode_content\u001b[49m\u001b[38;5;241;43m=\u001b[39;49m\u001b[43mdecode_content\u001b[49m\u001b[43m,\u001b[49m\n\u001b[0;32m    805\u001b[0m \u001b[43m    \u001b[49m\u001b[38;5;241;43m*\u001b[39;49m\u001b[38;5;241;43m*\u001b[39;49m\u001b[43mresponse_kw\u001b[49m\u001b[43m,\u001b[49m\n\u001b[0;32m    806\u001b[0m \u001b[43m\u001b[49m\u001b[43m)\u001b[49m\n\u001b[0;32m    808\u001b[0m \u001b[38;5;66;03m# Everything went great!\u001b[39;00m\n\u001b[0;32m    809\u001b[0m clean_exit \u001b[38;5;241m=\u001b[39m \u001b[38;5;28;01mTrue\u001b[39;00m\n",
      "File \u001b[1;32mc:\\Users\\norri\\AppData\\Local\\Programs\\Python\\Python312\\Lib\\site-packages\\urllib3\\connectionpool.py:537\u001b[0m, in \u001b[0;36mHTTPConnectionPool._make_request\u001b[1;34m(self, conn, method, url, body, headers, retries, timeout, chunked, response_conn, preload_content, decode_content, enforce_content_length)\u001b[0m\n\u001b[0;32m    535\u001b[0m \u001b[38;5;66;03m# Receive the response from the server\u001b[39;00m\n\u001b[0;32m    536\u001b[0m \u001b[38;5;28;01mtry\u001b[39;00m:\n\u001b[1;32m--> 537\u001b[0m     response \u001b[38;5;241m=\u001b[39m \u001b[43mconn\u001b[49m\u001b[38;5;241;43m.\u001b[39;49m\u001b[43mgetresponse\u001b[49m\u001b[43m(\u001b[49m\u001b[43m)\u001b[49m\n\u001b[0;32m    538\u001b[0m \u001b[38;5;28;01mexcept\u001b[39;00m (BaseSSLError, \u001b[38;5;167;01mOSError\u001b[39;00m) \u001b[38;5;28;01mas\u001b[39;00m e:\n\u001b[0;32m    539\u001b[0m     \u001b[38;5;28mself\u001b[39m\u001b[38;5;241m.\u001b[39m_raise_timeout(err\u001b[38;5;241m=\u001b[39me, url\u001b[38;5;241m=\u001b[39murl, timeout_value\u001b[38;5;241m=\u001b[39mread_timeout)\n",
      "File \u001b[1;32mc:\\Users\\norri\\AppData\\Local\\Programs\\Python\\Python312\\Lib\\site-packages\\urllib3\\connection.py:466\u001b[0m, in \u001b[0;36mHTTPConnection.getresponse\u001b[1;34m(self)\u001b[0m\n\u001b[0;32m    463\u001b[0m \u001b[38;5;28;01mfrom\u001b[39;00m \u001b[38;5;21;01m.\u001b[39;00m\u001b[38;5;21;01mresponse\u001b[39;00m \u001b[38;5;28;01mimport\u001b[39;00m HTTPResponse\n\u001b[0;32m    465\u001b[0m \u001b[38;5;66;03m# Get the response from http.client.HTTPConnection\u001b[39;00m\n\u001b[1;32m--> 466\u001b[0m httplib_response \u001b[38;5;241m=\u001b[39m \u001b[38;5;28;43msuper\u001b[39;49m\u001b[43m(\u001b[49m\u001b[43m)\u001b[49m\u001b[38;5;241;43m.\u001b[39;49m\u001b[43mgetresponse\u001b[49m\u001b[43m(\u001b[49m\u001b[43m)\u001b[49m\n\u001b[0;32m    468\u001b[0m \u001b[38;5;28;01mtry\u001b[39;00m:\n\u001b[0;32m    469\u001b[0m     assert_header_parsing(httplib_response\u001b[38;5;241m.\u001b[39mmsg)\n",
      "File \u001b[1;32mc:\\Users\\norri\\AppData\\Local\\Programs\\Python\\Python312\\Lib\\http\\client.py:1428\u001b[0m, in \u001b[0;36mHTTPConnection.getresponse\u001b[1;34m(self)\u001b[0m\n\u001b[0;32m   1426\u001b[0m \u001b[38;5;28;01mtry\u001b[39;00m:\n\u001b[0;32m   1427\u001b[0m     \u001b[38;5;28;01mtry\u001b[39;00m:\n\u001b[1;32m-> 1428\u001b[0m         \u001b[43mresponse\u001b[49m\u001b[38;5;241;43m.\u001b[39;49m\u001b[43mbegin\u001b[49m\u001b[43m(\u001b[49m\u001b[43m)\u001b[49m\n\u001b[0;32m   1429\u001b[0m     \u001b[38;5;28;01mexcept\u001b[39;00m \u001b[38;5;167;01mConnectionError\u001b[39;00m:\n\u001b[0;32m   1430\u001b[0m         \u001b[38;5;28mself\u001b[39m\u001b[38;5;241m.\u001b[39mclose()\n",
      "File \u001b[1;32mc:\\Users\\norri\\AppData\\Local\\Programs\\Python\\Python312\\Lib\\http\\client.py:331\u001b[0m, in \u001b[0;36mHTTPResponse.begin\u001b[1;34m(self)\u001b[0m\n\u001b[0;32m    329\u001b[0m \u001b[38;5;66;03m# read until we get a non-100 response\u001b[39;00m\n\u001b[0;32m    330\u001b[0m \u001b[38;5;28;01mwhile\u001b[39;00m \u001b[38;5;28;01mTrue\u001b[39;00m:\n\u001b[1;32m--> 331\u001b[0m     version, status, reason \u001b[38;5;241m=\u001b[39m \u001b[38;5;28;43mself\u001b[39;49m\u001b[38;5;241;43m.\u001b[39;49m\u001b[43m_read_status\u001b[49m\u001b[43m(\u001b[49m\u001b[43m)\u001b[49m\n\u001b[0;32m    332\u001b[0m     \u001b[38;5;28;01mif\u001b[39;00m status \u001b[38;5;241m!=\u001b[39m CONTINUE:\n\u001b[0;32m    333\u001b[0m         \u001b[38;5;28;01mbreak\u001b[39;00m\n",
      "File \u001b[1;32mc:\\Users\\norri\\AppData\\Local\\Programs\\Python\\Python312\\Lib\\http\\client.py:292\u001b[0m, in \u001b[0;36mHTTPResponse._read_status\u001b[1;34m(self)\u001b[0m\n\u001b[0;32m    291\u001b[0m \u001b[38;5;28;01mdef\u001b[39;00m \u001b[38;5;21m_read_status\u001b[39m(\u001b[38;5;28mself\u001b[39m):\n\u001b[1;32m--> 292\u001b[0m     line \u001b[38;5;241m=\u001b[39m \u001b[38;5;28mstr\u001b[39m(\u001b[38;5;28;43mself\u001b[39;49m\u001b[38;5;241;43m.\u001b[39;49m\u001b[43mfp\u001b[49m\u001b[38;5;241;43m.\u001b[39;49m\u001b[43mreadline\u001b[49m\u001b[43m(\u001b[49m\u001b[43m_MAXLINE\u001b[49m\u001b[43m \u001b[49m\u001b[38;5;241;43m+\u001b[39;49m\u001b[43m \u001b[49m\u001b[38;5;241;43m1\u001b[39;49m\u001b[43m)\u001b[49m, \u001b[38;5;124m\"\u001b[39m\u001b[38;5;124miso-8859-1\u001b[39m\u001b[38;5;124m\"\u001b[39m)\n\u001b[0;32m    293\u001b[0m     \u001b[38;5;28;01mif\u001b[39;00m \u001b[38;5;28mlen\u001b[39m(line) \u001b[38;5;241m>\u001b[39m _MAXLINE:\n\u001b[0;32m    294\u001b[0m         \u001b[38;5;28;01mraise\u001b[39;00m LineTooLong(\u001b[38;5;124m\"\u001b[39m\u001b[38;5;124mstatus line\u001b[39m\u001b[38;5;124m\"\u001b[39m)\n",
      "File \u001b[1;32mc:\\Users\\norri\\AppData\\Local\\Programs\\Python\\Python312\\Lib\\socket.py:707\u001b[0m, in \u001b[0;36mSocketIO.readinto\u001b[1;34m(self, b)\u001b[0m\n\u001b[0;32m    705\u001b[0m \u001b[38;5;28;01mwhile\u001b[39;00m \u001b[38;5;28;01mTrue\u001b[39;00m:\n\u001b[0;32m    706\u001b[0m     \u001b[38;5;28;01mtry\u001b[39;00m:\n\u001b[1;32m--> 707\u001b[0m         \u001b[38;5;28;01mreturn\u001b[39;00m \u001b[38;5;28;43mself\u001b[39;49m\u001b[38;5;241;43m.\u001b[39;49m\u001b[43m_sock\u001b[49m\u001b[38;5;241;43m.\u001b[39;49m\u001b[43mrecv_into\u001b[49m\u001b[43m(\u001b[49m\u001b[43mb\u001b[49m\u001b[43m)\u001b[49m\n\u001b[0;32m    708\u001b[0m     \u001b[38;5;28;01mexcept\u001b[39;00m timeout:\n\u001b[0;32m    709\u001b[0m         \u001b[38;5;28mself\u001b[39m\u001b[38;5;241m.\u001b[39m_timeout_occurred \u001b[38;5;241m=\u001b[39m \u001b[38;5;28;01mTrue\u001b[39;00m\n",
      "\u001b[1;31mKeyboardInterrupt\u001b[0m: "
     ]
    }
   ],
   "source": [
    "individual_running_data = pd.DataFrame()\n",
    "\n",
    "for index, row in running_data.iterrows():\n",
    "    ind_data = scraper.scrape_individual_data(MARATHON_URL + row['hyper_link'])\n",
    "    ind_data['bib_number'] = row['bib_number']\n",
    "\n",
    "    individual_running_data = pd.concat([individual_running_data, ind_data])\n",
    "\n",
    "    if index % 100 == 0:\n",
    "        logging.info(f'index {index} scraped. Results size: {individual_running_data.shape[0]}')\n",
    "    "
   ]
  },
  {
   "cell_type": "code",
   "execution_count": 8,
   "metadata": {},
   "outputs": [],
   "source": [
    "individual_running_data.to_csv(INDIVIDUAL_DATA_PATH)"
   ]
  }
 ],
 "metadata": {
  "kernelspec": {
   "display_name": "Python 3",
   "language": "python",
   "name": "python3"
  },
  "language_info": {
   "codemirror_mode": {
    "name": "ipython",
    "version": 3
   },
   "file_extension": ".py",
   "mimetype": "text/x-python",
   "name": "python",
   "nbconvert_exporter": "python",
   "pygments_lexer": "ipython3",
   "version": "3.12.3"
  }
 },
 "nbformat": 4,
 "nbformat_minor": 4
}
